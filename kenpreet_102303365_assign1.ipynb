{
  "cells": [
    {
      "cell_type": "code",
      "execution_count": 3,
      "metadata": {
        "colab": {
          "base_uri": "https://localhost:8080/"
        },
        "id": "NQ7_s2dKlGRf",
        "outputId": "d13b010c-fc20-4763-ef67-b64ee72d1bd2"
      },
      "outputs": [
        {
          "output_type": "stream",
          "name": "stdout",
          "text": [
            "Reversed: [5 4 6 3 2 1]\n"
          ]
        }
      ],
      "source": [
        "# 1a\n",
        "import numpy as np\n",
        "arr = np.array([1, 2, 3, 6, 4, 5])\n",
        "print(\"Reversed:\", arr[::-1])\n",
        "\n",
        "\n"
      ]
    },
    {
      "cell_type": "code",
      "execution_count": 4,
      "metadata": {
        "colab": {
          "base_uri": "https://localhost:8080/"
        },
        "id": "2-hg_90Roolu",
        "outputId": "0d61f847-cfab-4524-b74d-db1bb1701df6"
      },
      "outputs": [
        {
          "output_type": "stream",
          "name": "stdout",
          "text": [
            "[1 2 3 2 4 5 1 2 3]\n",
            "[1 2 3 2 4 5 1 2 3]\n"
          ]
        }
      ],
      "source": [
        "# 1b\n",
        "array1 = np.array([[1, 2, 3], [2, 4, 5], [1, 2, 3]])\n",
        "print(array1.ravel())\n",
        "print(array1.flatten())"
      ]
    },
    {
      "cell_type": "code",
      "source": [
        "#1c\n",
        "arr1 = np.array([[1, 2], [3, 4]])\n",
        "arr2 = np.array([[1, 2], [3, 4]])\n",
        "np.array_equal(arr1, arr2)\n"
      ],
      "metadata": {
        "colab": {
          "base_uri": "https://localhost:8080/"
        },
        "id": "bFaISYMVrfSH",
        "outputId": "9cd75fa4-b97b-4fdd-ecd5-b5adb990ab13"
      },
      "execution_count": 5,
      "outputs": [
        {
          "output_type": "execute_result",
          "data": {
            "text/plain": [
              "True"
            ]
          },
          "metadata": {},
          "execution_count": 5
        }
      ]
    },
    {
      "cell_type": "code",
      "execution_count": 6,
      "metadata": {
        "id": "khdJPpNLorEs",
        "colab": {
          "base_uri": "https://localhost:8080/"
        },
        "outputId": "33fcad70-7b66-4646-c85c-08b532a2e6a6"
      },
      "outputs": [
        {
          "output_type": "stream",
          "name": "stdout",
          "text": [
            "Most frequent: 1\n",
            "Indices: (array([0, 5, 7, 8, 9]),)\n"
          ]
        }
      ],
      "source": [
        "# 1d\n",
        "x = np.array([1,2,3,4,5,1,2,1,1,1])\n",
        "from collections import Counter\n",
        "most_frequent = Counter(x).most_common(1)[0][0]\n",
        "print(\"Most frequent:\", most_frequent)\n",
        "print(\"Indices:\", np.where(x == most_frequent))"
      ]
    },
    {
      "cell_type": "code",
      "source": [
        "# 1e\n",
        "gfg = np.matrix('[4, 1, 9; 12, 3, 1; 4, 5, 6]')\n",
        "\n",
        "totalsum = np.sum(gfg)\n",
        "\n",
        "rowsum = np.sum(gfg, axis=1)\n",
        "\n",
        "colsum = np.sum(gfg, axis=0)\n",
        "\n",
        "print(totalsum)\n",
        "print(rowsum)\n",
        "print(colsum)\n"
      ],
      "metadata": {
        "id": "4PY1Nouhtiys",
        "colab": {
          "base_uri": "https://localhost:8080/"
        },
        "outputId": "8aa7e7a3-85e3-4949-9da6-402a13b24bc3"
      },
      "execution_count": 7,
      "outputs": [
        {
          "output_type": "stream",
          "name": "stdout",
          "text": [
            "45\n",
            "[[14]\n",
            " [16]\n",
            " [15]]\n",
            "[[20  9 16]]\n"
          ]
        }
      ]
    },
    {
      "cell_type": "code",
      "execution_count": 8,
      "metadata": {
        "colab": {
          "base_uri": "https://localhost:8080/"
        },
        "id": "d66srsocot-6",
        "outputId": "bf1b8bb8-37f3-45d5-8a32-68cfaf637a3d"
      },
      "outputs": [
        {
          "output_type": "stream",
          "name": "stdout",
          "text": [
            "Most frequent: 1\n",
            "Indices: (array([0, 1, 2]),)\n"
          ]
        }
      ],
      "source": [
        "y = np.array([1, 1, 1, 2, 3, 4, 2, 4, 3, 3])\n",
        "from collections import Counter\n",
        "most_common = Counter(y).most_common(1)[0][0]\n",
        "print(\"Most frequent:\", most_common)\n",
        "print(\"Indices:\", np.where(y == most_common))"
      ]
    },
    {
      "cell_type": "code",
      "source": [
        "x = np.array([[2, 3, 4], [3, 2, 9]])\n",
        "y = np.array([[1, 5, 0], [5, 10, 3]])\n",
        "\n",
        "# Inner product\n",
        "inner = np.inner(x, y)\n",
        "\n",
        "# Outer product (flattened)\n",
        "outer = np.outer(x, y)\n",
        "\n",
        "# Cartesian product\n",
        "cartesian = np.array(np.meshgrid(x.flatten(), y.flatten())).T.reshape(-1, 2)\n",
        "\n",
        "print(inner)\n",
        "print(outer)\n",
        "print(cartesian)\n"
      ],
      "metadata": {
        "id": "Hwzo6n05t8i4",
        "colab": {
          "base_uri": "https://localhost:8080/"
        },
        "outputId": "0cbc262c-db67-4acd-f6da-5b66227821f0"
      },
      "execution_count": 9,
      "outputs": [
        {
          "output_type": "stream",
          "name": "stdout",
          "text": [
            "[[17 52]\n",
            " [13 62]]\n",
            "[[ 2 10  0 10 20  6]\n",
            " [ 3 15  0 15 30  9]\n",
            " [ 4 20  0 20 40 12]\n",
            " [ 3 15  0 15 30  9]\n",
            " [ 2 10  0 10 20  6]\n",
            " [ 9 45  0 45 90 27]]\n",
            "[[ 2  1]\n",
            " [ 2  5]\n",
            " [ 2  0]\n",
            " [ 2  5]\n",
            " [ 2 10]\n",
            " [ 2  3]\n",
            " [ 3  1]\n",
            " [ 3  5]\n",
            " [ 3  0]\n",
            " [ 3  5]\n",
            " [ 3 10]\n",
            " [ 3  3]\n",
            " [ 4  1]\n",
            " [ 4  5]\n",
            " [ 4  0]\n",
            " [ 4  5]\n",
            " [ 4 10]\n",
            " [ 4  3]\n",
            " [ 3  1]\n",
            " [ 3  5]\n",
            " [ 3  0]\n",
            " [ 3  5]\n",
            " [ 3 10]\n",
            " [ 3  3]\n",
            " [ 2  1]\n",
            " [ 2  5]\n",
            " [ 2  0]\n",
            " [ 2  5]\n",
            " [ 2 10]\n",
            " [ 2  3]\n",
            " [ 9  1]\n",
            " [ 9  5]\n",
            " [ 9  0]\n",
            " [ 9  5]\n",
            " [ 9 10]\n",
            " [ 9  3]]\n"
          ]
        }
      ]
    },
    {
      "cell_type": "code",
      "source": [
        "# i.\n",
        "p1 = np.array([[1, 2], [2, 3]])\n",
        "q1 = np.array([[4, 5], [6, 7]])\n",
        "\n",
        "print(np.dot(p1, q1))\n",
        "print(np.cov(p1.transpose(), q1.transpose()))\n",
        "\n",
        "# ii.\n",
        "x = np.array([[2, 3, 4], [3, 2, 9]])\n",
        "y = np.array([[1, 5, 0], [5, 10, 3]])\n",
        "\n",
        "print(np.inner(x, y))\n",
        "print()\n",
        "print(np.outer(x, y))\n",
        "print()\n",
        "print(np.array(np.meshgrid(x.flatten(), y.flatten())).transpose().reshape(-1, 2))\n"
      ],
      "metadata": {
        "id": "JSVwxm3luB-L",
        "colab": {
          "base_uri": "https://localhost:8080/"
        },
        "outputId": "26ac6bdd-f22b-4cc3-aea8-719e6f318972"
      },
      "execution_count": 17,
      "outputs": [
        {
          "output_type": "stream",
          "name": "stdout",
          "text": [
            "[[16 19]\n",
            " [26 31]]\n",
            "[[0.5 0.5 1.  1. ]\n",
            " [0.5 0.5 1.  1. ]\n",
            " [1.  1.  2.  2. ]\n",
            " [1.  1.  2.  2. ]]\n",
            "[[17 52]\n",
            " [13 62]]\n",
            "\n",
            "[[ 2 10  0 10 20  6]\n",
            " [ 3 15  0 15 30  9]\n",
            " [ 4 20  0 20 40 12]\n",
            " [ 3 15  0 15 30  9]\n",
            " [ 2 10  0 10 20  6]\n",
            " [ 9 45  0 45 90 27]]\n",
            "\n",
            "[[ 2  1]\n",
            " [ 2  5]\n",
            " [ 2  0]\n",
            " [ 2  5]\n",
            " [ 2 10]\n",
            " [ 2  3]\n",
            " [ 3  1]\n",
            " [ 3  5]\n",
            " [ 3  0]\n",
            " [ 3  5]\n",
            " [ 3 10]\n",
            " [ 3  3]\n",
            " [ 4  1]\n",
            " [ 4  5]\n",
            " [ 4  0]\n",
            " [ 4  5]\n",
            " [ 4 10]\n",
            " [ 4  3]\n",
            " [ 3  1]\n",
            " [ 3  5]\n",
            " [ 3  0]\n",
            " [ 3  5]\n",
            " [ 3 10]\n",
            " [ 3  3]\n",
            " [ 2  1]\n",
            " [ 2  5]\n",
            " [ 2  0]\n",
            " [ 2  5]\n",
            " [ 2 10]\n",
            " [ 2  3]\n",
            " [ 9  1]\n",
            " [ 9  5]\n",
            " [ 9  0]\n",
            " [ 9  5]\n",
            " [ 9 10]\n",
            " [ 9  3]]\n"
          ]
        }
      ]
    },
    {
      "cell_type": "code",
      "source": [
        "#  Question\n",
        " gfg = np.matrix('[4, 1, 9; 12, 3, 1; 4, 5, 6]')"
      ],
      "metadata": {
        "id": "05wEiNnjsibf"
      },
      "execution_count": null,
      "outputs": []
    },
    {
      "cell_type": "code",
      "source": [
        "# 2\n",
        "array = np.array([[1, -2, 3],[-4, 5, -6]])\n",
        "\n",
        "# i. Absolute\n",
        "abs_array = np.abs(array)\n",
        "\n",
        "# ii. Percentiles\n",
        "flat = array.flatten()\n",
        "percentiles = np.percentile(flat, [25, 50, 75])\n",
        "col_percentiles = np.percentile(array, [25, 50, 75], axis=0)\n",
        "row_percentiles = np.percentile(array, [25, 50, 75], axis=1)\n",
        "\n",
        "print(abs_array)\n",
        "print(percentiles)\n",
        "print(col_percentiles)\n",
        "print(row_percentiles)\n",
        "\n",
        "# iii. Stats\n",
        "mean = np.mean(flat)\n",
        "median = np.median(flat)\n",
        "std = np.std(flat)\n",
        "\n",
        "col_mean = np.mean(array, axis=0)\n",
        "row_mean = np.mean(array, axis=1)\n",
        "\n",
        "print(mean, median, std)\n",
        "print(col_mean)\n",
        "print(row_mean)\n"
      ],
      "metadata": {
        "id": "fdqFllMMrOH6",
        "colab": {
          "base_uri": "https://localhost:8080/"
        },
        "outputId": "817e8f36-bfdb-42bc-b04c-3be4835e1c91"
      },
      "execution_count": 11,
      "outputs": [
        {
          "output_type": "stream",
          "name": "stdout",
          "text": [
            "[[1 2 3]\n",
            " [4 5 6]]\n",
            "[-3.5 -0.5  2.5]\n",
            "[[-2.75 -0.25 -3.75]\n",
            " [-1.5   1.5  -1.5 ]\n",
            " [-0.25  3.25  0.75]]\n",
            "[[-0.5 -5. ]\n",
            " [ 1.  -4. ]\n",
            " [ 2.   0.5]]\n",
            "-0.5 -0.5 3.8622100754188224\n",
            "[-1.5  1.5 -1.5]\n",
            "[ 0.66666667 -1.66666667]\n"
          ]
        }
      ]
    },
    {
      "cell_type": "code",
      "source": [
        "a = np.array([-1.8, -1.6, -0.5, 0.5, 1.6, 1.8, 3.0])\n",
        "\n",
        "floor_vals = np.floor(a)\n",
        "ceil_vals = np.ceil(a)\n",
        "trunc_vals = np.trunc(a)\n",
        "round_vals = np.round(a)\n",
        "\n",
        "print(floor_vals)\n",
        "print(ceil_vals)\n",
        "print(trunc_vals)\n",
        "print(round_vals)\n"
      ],
      "metadata": {
        "id": "FPYH9hmmuPUN",
        "colab": {
          "base_uri": "https://localhost:8080/"
        },
        "outputId": "2cae9794-902c-4ef7-ebf3-4a90202bc722"
      },
      "execution_count": 12,
      "outputs": [
        {
          "output_type": "stream",
          "name": "stdout",
          "text": [
            "[-2. -2. -1.  0.  1.  1.  3.]\n",
            "[-1. -1. -0.  1.  2.  2.  3.]\n",
            "[-1. -1. -0.  0.  1.  1.  3.]\n",
            "[-2. -2. -0.  0.  2.  2.  3.]\n"
          ]
        }
      ]
    },
    {
      "cell_type": "code",
      "source": [
        "# Q3\n",
        "arr = np.array([10, 52, 62, 16, 16, 54, 453])\n",
        "print(np.sort(arr))\n",
        "print(\"Top 5:\", np.sort(arr)[-5:])"
      ],
      "metadata": {
        "id": "mRKDCjUvrUhg",
        "colab": {
          "base_uri": "https://localhost:8080/"
        },
        "outputId": "cd68a049-2f40-48c7-c07a-244f6e795f2f"
      },
      "execution_count": 13,
      "outputs": [
        {
          "output_type": "stream",
          "name": "stdout",
          "text": [
            "[ 10  16  16  52  54  62 453]\n",
            "Top 5: [ 16  52  54  62 453]\n"
          ]
        }
      ]
    },
    {
      "cell_type": "code",
      "source": [
        "# Q4\n",
        "\n",
        "import cv2\n",
        "def img_to_array(path):\n",
        "    img = cv2.imread(path)\n",
        "    if len(img.shape) == 2:\n",
        "        np.savetxt(\"grayscaleimage.txt\", img, fmt='%d')\n",
        "    else:\n",
        "        for i in range(3):\n",
        "            np.savetxt(f\"channel_{i}.txt\", img[:,:,i], fmt='%d')\n",
        "path = '/Users/kenpreet/Desktop/Screenshot 2025-08-05 at 7.24.28 AM.png'\\\n",
        "\n",
        "img_to_array(path)"
      ],
      "metadata": {
        "id": "q8Jp4vm5rZJz",
        "colab": {
          "base_uri": "https://localhost:8080/",
          "height": 297
        },
        "outputId": "954e8aea-8bc8-482c-a072-269355bc0a56"
      },
      "execution_count": 19,
      "outputs": [
        {
          "output_type": "error",
          "ename": "AttributeError",
          "evalue": "'NoneType' object has no attribute 'shape'",
          "traceback": [
            "\u001b[0;31m---------------------------------------------------------------------------\u001b[0m",
            "\u001b[0;31mAttributeError\u001b[0m                            Traceback (most recent call last)",
            "\u001b[0;32m/tmp/ipython-input-3184619828.py\u001b[0m in \u001b[0;36m<cell line: 0>\u001b[0;34m()\u001b[0m\n\u001b[1;32m     11\u001b[0m \u001b[0mpath\u001b[0m \u001b[0;34m=\u001b[0m \u001b[0;34m'/Users/kenpreet/Desktop/Screenshot 2025-08-05 at 7.24.28 AM.png'\u001b[0m\u001b[0;31m\\\u001b[0m\u001b[0;34m\u001b[0m\u001b[0;34m\u001b[0m\u001b[0m\n\u001b[1;32m     12\u001b[0m \u001b[0;34m\u001b[0m\u001b[0m\n\u001b[0;32m---> 13\u001b[0;31m \u001b[0mimg_to_array\u001b[0m\u001b[0;34m(\u001b[0m\u001b[0mpath\u001b[0m\u001b[0;34m)\u001b[0m\u001b[0;34m\u001b[0m\u001b[0;34m\u001b[0m\u001b[0m\n\u001b[0m",
            "\u001b[0;32m/tmp/ipython-input-3184619828.py\u001b[0m in \u001b[0;36mimg_to_array\u001b[0;34m(path)\u001b[0m\n\u001b[1;32m      4\u001b[0m \u001b[0;32mdef\u001b[0m \u001b[0mimg_to_array\u001b[0m\u001b[0;34m(\u001b[0m\u001b[0mpath\u001b[0m\u001b[0;34m)\u001b[0m\u001b[0;34m:\u001b[0m\u001b[0;34m\u001b[0m\u001b[0;34m\u001b[0m\u001b[0m\n\u001b[1;32m      5\u001b[0m     \u001b[0mimg\u001b[0m \u001b[0;34m=\u001b[0m \u001b[0mcv2\u001b[0m\u001b[0;34m.\u001b[0m\u001b[0mimread\u001b[0m\u001b[0;34m(\u001b[0m\u001b[0mpath\u001b[0m\u001b[0;34m)\u001b[0m\u001b[0;34m\u001b[0m\u001b[0;34m\u001b[0m\u001b[0m\n\u001b[0;32m----> 6\u001b[0;31m     \u001b[0;32mif\u001b[0m \u001b[0mlen\u001b[0m\u001b[0;34m(\u001b[0m\u001b[0mimg\u001b[0m\u001b[0;34m.\u001b[0m\u001b[0mshape\u001b[0m\u001b[0;34m)\u001b[0m \u001b[0;34m==\u001b[0m \u001b[0;36m2\u001b[0m\u001b[0;34m:\u001b[0m\u001b[0;34m\u001b[0m\u001b[0;34m\u001b[0m\u001b[0m\n\u001b[0m\u001b[1;32m      7\u001b[0m         \u001b[0mnp\u001b[0m\u001b[0;34m.\u001b[0m\u001b[0msavetxt\u001b[0m\u001b[0;34m(\u001b[0m\u001b[0;34m\"grayscaleimage.txt\"\u001b[0m\u001b[0;34m,\u001b[0m \u001b[0mimg\u001b[0m\u001b[0;34m,\u001b[0m \u001b[0mfmt\u001b[0m\u001b[0;34m=\u001b[0m\u001b[0;34m'%d'\u001b[0m\u001b[0;34m)\u001b[0m\u001b[0;34m\u001b[0m\u001b[0;34m\u001b[0m\u001b[0m\n\u001b[1;32m      8\u001b[0m     \u001b[0;32melse\u001b[0m\u001b[0;34m:\u001b[0m\u001b[0;34m\u001b[0m\u001b[0;34m\u001b[0m\u001b[0m\n",
            "\u001b[0;31mAttributeError\u001b[0m: 'NoneType' object has no attribute 'shape'"
          ]
        }
      ]
    },
    {
      "cell_type": "code",
      "source": [
        "#grey\n",
        "\n",
        "r = np.loadtxt(\"channel_0.txt\", dtype=int)\n",
        "g = np.loadtxt(\"channel_1.txt\", dtype=int)\n",
        "b = np.loadtxt(\"channel_2.txt\", dtype=int)\n",
        "\n",
        "r, g, b\n"
      ],
      "metadata": {
        "id": "SkGjaWLAuhao"
      },
      "execution_count": null,
      "outputs": []
    }
  ],
  "metadata": {
    "colab": {
      "provenance": []
    },
    "kernelspec": {
      "display_name": "Python 3",
      "name": "python3"
    },
    "language_info": {
      "name": "python"
    }
  },
  "nbformat": 4,
  "nbformat_minor": 0
}